{
  "nbformat": 4,
  "nbformat_minor": 0,
  "metadata": {
    "colab": {
      "name": "Chunnking.ipynb",
      "provenance": []
    },
    "kernelspec": {
      "name": "python3",
      "display_name": "Python 3"
    },
    "language_info": {
      "name": "python"
    }
  },
  "cells": [
    {
      "cell_type": "code",
      "metadata": {
        "id": "lDB6C-Qj0Vv6",
        "colab": {
          "base_uri": "https://localhost:8080/"
        },
        "outputId": "300f87f4-7f65-4cb7-8209-40786f30883a"
      },
      "source": [
        "import nltk\n",
        "nltk.download('punkt')\n",
        "nltk.download('averaged_perceptron_tagger')\n",
        "nltk.download('tagsets')\n",
        "nltk.download(\"words\")\n",
        "nltk.download(\"maxent_ne_chunker\")"
      ],
      "execution_count": null,
      "outputs": [
        {
          "output_type": "stream",
          "name": "stdout",
          "text": [
            "[nltk_data] Downloading package punkt to /root/nltk_data...\n",
            "[nltk_data]   Unzipping tokenizers/punkt.zip.\n",
            "[nltk_data] Downloading package averaged_perceptron_tagger to\n",
            "[nltk_data]     /root/nltk_data...\n",
            "[nltk_data]   Unzipping taggers/averaged_perceptron_tagger.zip.\n",
            "[nltk_data] Downloading package tagsets to /root/nltk_data...\n",
            "[nltk_data]   Unzipping help/tagsets.zip.\n",
            "[nltk_data] Downloading package words to /root/nltk_data...\n",
            "[nltk_data]   Unzipping corpora/words.zip.\n",
            "[nltk_data] Downloading package maxent_ne_chunker to\n",
            "[nltk_data]     /root/nltk_data...\n",
            "[nltk_data]   Unzipping chunkers/maxent_ne_chunker.zip.\n"
          ]
        },
        {
          "output_type": "execute_result",
          "data": {
            "text/plain": [
              "True"
            ]
          },
          "metadata": {},
          "execution_count": 1
        }
      ]
    },
    {
      "cell_type": "code",
      "metadata": {
        "id": "xrfPg3bx018K"
      },
      "source": [
        "from nltk.tokenize import word_tokenize\n",
        "from nltk.tag import pos_tag\n",
        "from nltk.chunk import ne_chunk"
      ],
      "execution_count": null,
      "outputs": []
    },
    {
      "cell_type": "code",
      "metadata": {
        "id": "KAl717o-1N-v",
        "colab": {
          "base_uri": "https://localhost:8080/"
        },
        "outputId": "392b3853-6a6c-461a-845a-46b09f9972dd"
      },
      "source": [
        "dataset=\"\"\"Once there was a Lion in the jungle who used to kill 2-3 animals daily for his meal. \n",
        "All animals went to him to tell, that daily one of them will come to him for his meal.\n",
        "So, the Lion agreed and this started going for many days. One day, it was Rabbit’s turn. When he was on his way he saw a well.\n",
        "Now he plans to kill the lion and save himself. He went to the lion and told him that, \n",
        "there is another lion who claims to be more powerful than him.\n",
        "Then the lion asks the rabbit to take him to that lion. \n",
        "The rabbit takes him to the well and said he lives here. \n",
        "When the lion looked in the well he saw his own reflection and jumped in the well and dies.\"\"\"\n",
        "\n",
        "len(set(dataset))"
      ],
      "execution_count": null,
      "outputs": [
        {
          "output_type": "execute_result",
          "data": {
            "text/plain": [
              "40"
            ]
          },
          "metadata": {},
          "execution_count": 15
        }
      ]
    },
    {
      "cell_type": "code",
      "metadata": {
        "colab": {
          "base_uri": "https://localhost:8080/"
        },
        "id": "o0BhCVGY9A00",
        "outputId": "beab0eec-85e1-4b40-d7e2-eb8643fb211b"
      },
      "source": [
        "#tokenize and tag the dataset\n",
        "dataset_tag=pos_tag(word_tokenize(dataset))\n",
        "print(\"varsha\")\n",
        "print(dataset_tag)"
      ],
      "execution_count": null,
      "outputs": [
        {
          "output_type": "stream",
          "name": "stdout",
          "text": [
            "varsha\n",
            "[('Once', 'RB'), ('there', 'EX'), ('was', 'VBD'), ('a', 'DT'), ('Lion', 'NNP'), ('in', 'IN'), ('the', 'DT'), ('jungle', 'NN'), ('who', 'WP'), ('used', 'VBD'), ('to', 'TO'), ('kill', 'VB'), ('2-3', 'JJ'), ('animals', 'NNS'), ('daily', 'RB'), ('for', 'IN'), ('his', 'PRP$'), ('meal', 'NN'), ('.', '.'), ('All', 'DT'), ('animals', 'NNS'), ('went', 'VBD'), ('to', 'TO'), ('him', 'PRP'), ('to', 'TO'), ('tell', 'VB'), (',', ','), ('that', 'IN'), ('daily', 'JJ'), ('one', 'CD'), ('of', 'IN'), ('them', 'PRP'), ('will', 'MD'), ('come', 'VB'), ('to', 'TO'), ('him', 'PRP'), ('for', 'IN'), ('his', 'PRP$'), ('meal', 'NN'), ('.', '.'), ('So', 'RB'), (',', ','), ('the', 'DT'), ('Lion', 'NNP'), ('agreed', 'VBD'), ('and', 'CC'), ('this', 'DT'), ('started', 'VBD'), ('going', 'VBG'), ('for', 'IN'), ('many', 'JJ'), ('days', 'NNS'), ('.', '.'), ('One', 'CD'), ('day', 'NN'), (',', ','), ('it', 'PRP'), ('was', 'VBD'), ('Rabbit', 'NNP'), ('’', 'NNP'), ('s', 'VBD'), ('turn', 'NN'), ('.', '.'), ('When', 'WRB'), ('he', 'PRP'), ('was', 'VBD'), ('on', 'IN'), ('his', 'PRP$'), ('way', 'NN'), ('he', 'PRP'), ('saw', 'VBD'), ('a', 'DT'), ('well', 'NN'), ('.', '.'), ('Now', 'RB'), ('he', 'PRP'), ('plans', 'VBZ'), ('to', 'TO'), ('kill', 'VB'), ('the', 'DT'), ('lion', 'NN'), ('and', 'CC'), ('save', 'VB'), ('himself', 'PRP'), ('.', '.'), ('He', 'PRP'), ('went', 'VBD'), ('to', 'TO'), ('the', 'DT'), ('lion', 'NN'), ('and', 'CC'), ('told', 'VBD'), ('him', 'PRP'), ('that', 'IN'), (',', ','), ('there', 'EX'), ('is', 'VBZ'), ('another', 'DT'), ('lion', 'NN'), ('who', 'WP'), ('claims', 'VBZ'), ('to', 'TO'), ('be', 'VB'), ('more', 'RBR'), ('powerful', 'JJ'), ('than', 'IN'), ('him', 'PRP'), ('.', '.'), ('Then', 'RB'), ('the', 'DT'), ('lion', 'NN'), ('asks', 'VBZ'), ('the', 'DT'), ('rabbit', 'NN'), ('to', 'TO'), ('take', 'VB'), ('him', 'PRP'), ('to', 'TO'), ('that', 'DT'), ('lion', 'NN'), ('.', '.'), ('The', 'DT'), ('rabbit', 'NN'), ('takes', 'VBZ'), ('him', 'PRP'), ('to', 'TO'), ('the', 'DT'), ('well', 'NN'), ('and', 'CC'), ('said', 'VBD'), ('he', 'PRP'), ('lives', 'VBZ'), ('here', 'RB'), ('.', '.'), ('When', 'WRB'), ('the', 'DT'), ('lion', 'NN'), ('looked', 'VBD'), ('in', 'IN'), ('the', 'DT'), ('well', 'NN'), ('he', 'PRP'), ('saw', 'VBD'), ('his', 'PRP$'), ('own', 'JJ'), ('reflection', 'NN'), ('and', 'CC'), ('jumped', 'VBD'), ('in', 'IN'), ('the', 'DT'), ('well', 'NN'), ('and', 'CC'), ('dies', 'NNS'), ('.', '.')]\n"
          ]
        }
      ]
    },
    {
      "cell_type": "code",
      "metadata": {
        "colab": {
          "base_uri": "https://localhost:8080/"
        },
        "id": "wiI49S9U9PJK",
        "outputId": "2db80466-c041-4f0d-84c8-450e428695cc"
      },
      "source": [
        "#apply NER\n",
        "data_ner=ne_chunk(dataset_tag)\n",
        "print(\"varsha\")\n",
        "print(data_ner)\n",
        "len(data_ner)"
      ],
      "execution_count": null,
      "outputs": [
        {
          "output_type": "stream",
          "name": "stdout",
          "text": [
            "varsha\n",
            "(S\n",
            "  Once/RB\n",
            "  there/EX\n",
            "  was/VBD\n",
            "  a/DT\n",
            "  Lion/NNP\n",
            "  in/IN\n",
            "  the/DT\n",
            "  jungle/NN\n",
            "  who/WP\n",
            "  used/VBD\n",
            "  to/TO\n",
            "  kill/VB\n",
            "  2-3/JJ\n",
            "  animals/NNS\n",
            "  daily/RB\n",
            "  for/IN\n",
            "  his/PRP$\n",
            "  meal/NN\n",
            "  ./.\n",
            "  All/DT\n",
            "  animals/NNS\n",
            "  went/VBD\n",
            "  to/TO\n",
            "  him/PRP\n",
            "  to/TO\n",
            "  tell/VB\n",
            "  ,/,\n",
            "  that/IN\n",
            "  daily/JJ\n",
            "  one/CD\n",
            "  of/IN\n",
            "  them/PRP\n",
            "  will/MD\n",
            "  come/VB\n",
            "  to/TO\n",
            "  him/PRP\n",
            "  for/IN\n",
            "  his/PRP$\n",
            "  meal/NN\n",
            "  ./.\n",
            "  So/RB\n",
            "  ,/,\n",
            "  the/DT\n",
            "  (ORGANIZATION Lion/NNP)\n",
            "  agreed/VBD\n",
            "  and/CC\n",
            "  this/DT\n",
            "  started/VBD\n",
            "  going/VBG\n",
            "  for/IN\n",
            "  many/JJ\n",
            "  days/NNS\n",
            "  ./.\n",
            "  One/CD\n",
            "  day/NN\n",
            "  ,/,\n",
            "  it/PRP\n",
            "  was/VBD\n",
            "  (PERSON Rabbit/NNP)\n",
            "  ’/NNP\n",
            "  s/VBD\n",
            "  turn/NN\n",
            "  ./.\n",
            "  When/WRB\n",
            "  he/PRP\n",
            "  was/VBD\n",
            "  on/IN\n",
            "  his/PRP$\n",
            "  way/NN\n",
            "  he/PRP\n",
            "  saw/VBD\n",
            "  a/DT\n",
            "  well/NN\n",
            "  ./.\n",
            "  Now/RB\n",
            "  he/PRP\n",
            "  plans/VBZ\n",
            "  to/TO\n",
            "  kill/VB\n",
            "  the/DT\n",
            "  lion/NN\n",
            "  and/CC\n",
            "  save/VB\n",
            "  himself/PRP\n",
            "  ./.\n",
            "  He/PRP\n",
            "  went/VBD\n",
            "  to/TO\n",
            "  the/DT\n",
            "  lion/NN\n",
            "  and/CC\n",
            "  told/VBD\n",
            "  him/PRP\n",
            "  that/IN\n",
            "  ,/,\n",
            "  there/EX\n",
            "  is/VBZ\n",
            "  another/DT\n",
            "  lion/NN\n",
            "  who/WP\n",
            "  claims/VBZ\n",
            "  to/TO\n",
            "  be/VB\n",
            "  more/RBR\n",
            "  powerful/JJ\n",
            "  than/IN\n",
            "  him/PRP\n",
            "  ./.\n",
            "  Then/RB\n",
            "  the/DT\n",
            "  lion/NN\n",
            "  asks/VBZ\n",
            "  the/DT\n",
            "  rabbit/NN\n",
            "  to/TO\n",
            "  take/VB\n",
            "  him/PRP\n",
            "  to/TO\n",
            "  that/DT\n",
            "  lion/NN\n",
            "  ./.\n",
            "  The/DT\n",
            "  rabbit/NN\n",
            "  takes/VBZ\n",
            "  him/PRP\n",
            "  to/TO\n",
            "  the/DT\n",
            "  well/NN\n",
            "  and/CC\n",
            "  said/VBD\n",
            "  he/PRP\n",
            "  lives/VBZ\n",
            "  here/RB\n",
            "  ./.\n",
            "  When/WRB\n",
            "  the/DT\n",
            "  lion/NN\n",
            "  looked/VBD\n",
            "  in/IN\n",
            "  the/DT\n",
            "  well/NN\n",
            "  he/PRP\n",
            "  saw/VBD\n",
            "  his/PRP$\n",
            "  own/JJ\n",
            "  reflection/NN\n",
            "  and/CC\n",
            "  jumped/VBD\n",
            "  in/IN\n",
            "  the/DT\n",
            "  well/NN\n",
            "  and/CC\n",
            "  dies/NNS\n",
            "  ./.)\n"
          ]
        },
        {
          "output_type": "execute_result",
          "data": {
            "text/plain": [
              "154"
            ]
          },
          "metadata": {},
          "execution_count": 16
        }
      ]
    },
    {
      "cell_type": "code",
      "metadata": {
        "id": "CsjsDvOGzmWw",
        "colab": {
          "base_uri": "https://localhost:8080/"
        },
        "outputId": "a05978c6-f011-450a-c2ad-b75d6461590a"
      },
      "source": [
        "len(data_ner)"
      ],
      "execution_count": null,
      "outputs": [
        {
          "output_type": "execute_result",
          "data": {
            "text/plain": [
              "154"
            ]
          },
          "metadata": {},
          "execution_count": 17
        }
      ]
    },
    {
      "cell_type": "markdown",
      "metadata": {
        "id": "7meaQbFX94r3"
      },
      "source": [
        "# Chunking"
      ]
    },
    {
      "cell_type": "code",
      "metadata": {
        "id": "yNOkDfLc9mBD"
      },
      "source": [
        "from nltk.tokenize import word_tokenize\n",
        "from nltk.tag import pos_tag\n",
        "from nltk.chunk import RegexpParser"
      ],
      "execution_count": null,
      "outputs": []
    },
    {
      "cell_type": "code",
      "metadata": {
        "id": "nXBXpnT8-GsA"
      },
      "source": [
        "dataset1=\"\"\"One day a hunter sets a net to catch birds and placed grains and rice over the net.\n",
        " After some time a flock of pigeons comes by and start eating grains and get caught in the net.\n",
        " After some time they started losing hope, then their leader asks them to fly together up in the sky. \n",
        " They did as they were told and carried the net away.\n",
        " The hunter runs after them but they flew away to their friend’s mouse hole. \n",
        " Then the mouse cuts the net and freed the pigeons.\"\"\"\n",
        "\n"
      ],
      "execution_count": null,
      "outputs": []
    },
    {
      "cell_type": "code",
      "metadata": {
        "colab": {
          "base_uri": "https://localhost:8080/"
        },
        "id": "cGatEMKP-WoI",
        "outputId": "b7272640-3b0a-4cad-c0d4-bb51eb0d2192"
      },
      "source": [
        "#tokenize thw data\n",
        "data_tag1=(word_tokenize(dataset1))\n",
        "print(\"varsha\")\n",
        "print(data_tag1)"
      ],
      "execution_count": null,
      "outputs": [
        {
          "output_type": "stream",
          "name": "stdout",
          "text": [
            "varsha\n",
            "['One', 'day', 'a', 'hunter', 'sets', 'a', 'net', 'to', 'catch', 'birds', 'and', 'placed', 'grains', 'and', 'rice', 'over', 'the', 'net', '.', 'After', 'some', 'time', 'a', 'flock', 'of', 'pigeons', 'comes', 'by', 'and', 'start', 'eating', 'grains', 'and', 'get', 'caught', 'in', 'the', 'net', '.', 'After', 'some', 'time', 'they', 'started', 'losing', 'hope', ',', 'then', 'their', 'leader', 'asks', 'them', 'to', 'fly', 'together', 'up', 'in', 'the', 'sky', '.', 'They', 'did', 'as', 'they', 'were', 'told', 'and', 'carried', 'the', 'net', 'away', '.', 'The', 'hunter', 'runs', 'after', 'them', 'but', 'they', 'flew', 'away', 'to', 'their', 'friend', '’', 's', 'mouse', 'hole', '.', 'Then', 'the', 'mouse', 'cuts', 'the', 'net', 'and', 'freed', 'the', 'pigeons', '.']\n"
          ]
        }
      ]
    },
    {
      "cell_type": "code",
      "metadata": {
        "colab": {
          "base_uri": "https://localhost:8080/"
        },
        "id": "BzAG-ITtAhht",
        "outputId": "0db0c405-474f-4fcf-ec04-0c052a135585"
      },
      "source": [
        "post_tagging=pos_tag(data_tag1)\n",
        "print(\"varsha\")\n",
        "print(post_tagging)"
      ],
      "execution_count": null,
      "outputs": [
        {
          "output_type": "stream",
          "name": "stdout",
          "text": [
            "varsha\n",
            "[('One', 'CD'), ('day', 'NN'), ('a', 'DT'), ('hunter', 'NN'), ('sets', 'VBZ'), ('a', 'DT'), ('net', 'JJ'), ('to', 'TO'), ('catch', 'VB'), ('birds', 'NNS'), ('and', 'CC'), ('placed', 'VBD'), ('grains', 'NNS'), ('and', 'CC'), ('rice', 'NN'), ('over', 'IN'), ('the', 'DT'), ('net', 'JJ'), ('.', '.'), ('After', 'IN'), ('some', 'DT'), ('time', 'NN'), ('a', 'DT'), ('flock', 'NN'), ('of', 'IN'), ('pigeons', 'NNS'), ('comes', 'VBZ'), ('by', 'IN'), ('and', 'CC'), ('start', 'VB'), ('eating', 'NN'), ('grains', 'NNS'), ('and', 'CC'), ('get', 'VB'), ('caught', 'VBN'), ('in', 'IN'), ('the', 'DT'), ('net', 'NN'), ('.', '.'), ('After', 'IN'), ('some', 'DT'), ('time', 'NN'), ('they', 'PRP'), ('started', 'VBD'), ('losing', 'VBG'), ('hope', 'NN'), (',', ','), ('then', 'RB'), ('their', 'PRP$'), ('leader', 'NN'), ('asks', 'VBZ'), ('them', 'PRP'), ('to', 'TO'), ('fly', 'VB'), ('together', 'RB'), ('up', 'RP'), ('in', 'IN'), ('the', 'DT'), ('sky', 'NN'), ('.', '.'), ('They', 'PRP'), ('did', 'VBD'), ('as', 'IN'), ('they', 'PRP'), ('were', 'VBD'), ('told', 'VBN'), ('and', 'CC'), ('carried', 'VBD'), ('the', 'DT'), ('net', 'JJ'), ('away', 'RB'), ('.', '.'), ('The', 'DT'), ('hunter', 'NN'), ('runs', 'VBZ'), ('after', 'IN'), ('them', 'PRP'), ('but', 'CC'), ('they', 'PRP'), ('flew', 'VBD'), ('away', 'RB'), ('to', 'TO'), ('their', 'PRP$'), ('friend', 'NN'), ('’', 'VBZ'), ('s', 'JJ'), ('mouse', 'NN'), ('hole', 'NN'), ('.', '.'), ('Then', 'RB'), ('the', 'DT'), ('mouse', 'NN'), ('cuts', 'VBZ'), ('the', 'DT'), ('net', 'JJ'), ('and', 'CC'), ('freed', 'VBD'), ('the', 'DT'), ('pigeons', 'NNS'), ('.', '.')]\n"
          ]
        }
      ]
    },
    {
      "cell_type": "code",
      "metadata": {
        "id": "uwKSQbzU-kk5"
      },
      "source": [
        "#Define the sequence of chunk\n",
        "sequence_chunk=\"\"\"\n",
        "                chunk:\n",
        "                {<NNPS>+}\n",
        "                {<NNP>+}\n",
        "                {<NN>+} \"\"\""
      ],
      "execution_count": null,
      "outputs": []
    },
    {
      "cell_type": "code",
      "metadata": {
        "colab": {
          "base_uri": "https://localhost:8080/"
        },
        "id": "8FgVD3qd_jax",
        "outputId": "63c8522d-2581-44df-cc4f-cf557563ee43"
      },
      "source": [
        "chunk=RegexpParser(sequence_chunk)\n",
        "print(\"varsha\")\n",
        "chunk"
      ],
      "execution_count": null,
      "outputs": [
        {
          "output_type": "stream",
          "name": "stdout",
          "text": [
            "varsha\n"
          ]
        },
        {
          "output_type": "execute_result",
          "data": {
            "text/plain": [
              "<chunk.RegexpParser with 1 stages>"
            ]
          },
          "metadata": {},
          "execution_count": 13
        }
      ]
    },
    {
      "cell_type": "code",
      "metadata": {
        "colab": {
          "base_uri": "https://localhost:8080/"
        },
        "id": "kGu-sk0R_tPI",
        "outputId": "885558a8-9f92-41c3-8ef3-5b9e01f0d4dd"
      },
      "source": [
        "chunk_result=chunk.parse(post_tagging)\n",
        "print(\"varsha\")\n",
        "print(chunk_result)"
      ],
      "execution_count": null,
      "outputs": [
        {
          "output_type": "stream",
          "name": "stdout",
          "text": [
            "varsha\n",
            "(S\n",
            "  One/CD\n",
            "  (chunk day/NN)\n",
            "  a/DT\n",
            "  (chunk hunter/NN)\n",
            "  sets/VBZ\n",
            "  a/DT\n",
            "  net/JJ\n",
            "  to/TO\n",
            "  catch/VB\n",
            "  birds/NNS\n",
            "  and/CC\n",
            "  placed/VBD\n",
            "  grains/NNS\n",
            "  and/CC\n",
            "  (chunk rice/NN)\n",
            "  over/IN\n",
            "  the/DT\n",
            "  net/JJ\n",
            "  ./.\n",
            "  After/IN\n",
            "  some/DT\n",
            "  (chunk time/NN)\n",
            "  a/DT\n",
            "  (chunk flock/NN)\n",
            "  of/IN\n",
            "  pigeons/NNS\n",
            "  comes/VBZ\n",
            "  by/IN\n",
            "  and/CC\n",
            "  start/VB\n",
            "  (chunk eating/NN)\n",
            "  grains/NNS\n",
            "  and/CC\n",
            "  get/VB\n",
            "  caught/VBN\n",
            "  in/IN\n",
            "  the/DT\n",
            "  (chunk net/NN)\n",
            "  ./.\n",
            "  After/IN\n",
            "  some/DT\n",
            "  (chunk time/NN)\n",
            "  they/PRP\n",
            "  started/VBD\n",
            "  losing/VBG\n",
            "  (chunk hope/NN)\n",
            "  ,/,\n",
            "  then/RB\n",
            "  their/PRP$\n",
            "  (chunk leader/NN)\n",
            "  asks/VBZ\n",
            "  them/PRP\n",
            "  to/TO\n",
            "  fly/VB\n",
            "  together/RB\n",
            "  up/RP\n",
            "  in/IN\n",
            "  the/DT\n",
            "  (chunk sky/NN)\n",
            "  ./.\n",
            "  They/PRP\n",
            "  did/VBD\n",
            "  as/IN\n",
            "  they/PRP\n",
            "  were/VBD\n",
            "  told/VBN\n",
            "  and/CC\n",
            "  carried/VBD\n",
            "  the/DT\n",
            "  net/JJ\n",
            "  away/RB\n",
            "  ./.\n",
            "  The/DT\n",
            "  (chunk hunter/NN)\n",
            "  runs/VBZ\n",
            "  after/IN\n",
            "  them/PRP\n",
            "  but/CC\n",
            "  they/PRP\n",
            "  flew/VBD\n",
            "  away/RB\n",
            "  to/TO\n",
            "  their/PRP$\n",
            "  (chunk friend/NN)\n",
            "  ’/VBZ\n",
            "  s/JJ\n",
            "  (chunk mouse/NN hole/NN)\n",
            "  ./.\n",
            "  Then/RB\n",
            "  the/DT\n",
            "  (chunk mouse/NN)\n",
            "  cuts/VBZ\n",
            "  the/DT\n",
            "  net/JJ\n",
            "  and/CC\n",
            "  freed/VBD\n",
            "  the/DT\n",
            "  pigeons/NNS\n",
            "  ./.)\n"
          ]
        }
      ]
    },
    {
      "cell_type": "code",
      "metadata": {
        "id": "yzhm_1T6_23x"
      },
      "source": [
        ""
      ],
      "execution_count": null,
      "outputs": []
    }
  ]
}