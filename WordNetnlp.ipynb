{
  "nbformat": 4,
  "nbformat_minor": 0,
  "metadata": {
    "colab": {
      "name": "WordNetnlp.ipynb",
      "provenance": []
    },
    "kernelspec": {
      "name": "python3",
      "display_name": "Python 3"
    },
    "language_info": {
      "name": "python"
    }
  },
  "cells": [
    {
      "cell_type": "code",
      "metadata": {
        "colab": {
          "base_uri": "https://localhost:8080/"
        },
        "id": "0_WH4q1v92Jc",
        "outputId": "325f812a-b430-4296-a232-b6b43a482df0"
      },
      "source": [
        "import nltk\n",
        "nltk.download(\"wordnet\")"
      ],
      "execution_count": null,
      "outputs": [
        {
          "output_type": "stream",
          "name": "stdout",
          "text": [
            "[nltk_data] Downloading package wordnet to /root/nltk_data...\n",
            "[nltk_data]   Unzipping corpora/wordnet.zip.\n"
          ]
        },
        {
          "output_type": "execute_result",
          "data": {
            "text/plain": [
              "True"
            ]
          },
          "metadata": {},
          "execution_count": 1
        }
      ]
    },
    {
      "cell_type": "code",
      "metadata": {
        "id": "ZIk0mIIQBb1v"
      },
      "source": [
        "from nltk.corpus import wordnet as wn\n"
      ],
      "execution_count": null,
      "outputs": []
    },
    {
      "cell_type": "code",
      "metadata": {
        "colab": {
          "base_uri": "https://localhost:8080/"
        },
        "id": "qd3nzMaoB0ie",
        "outputId": "408ee816-c7e5-4b36-80fe-8d7773613b17"
      },
      "source": [
        "sysn=wn.synsets('motorcar')\n",
        "print(\"varsha\")\n",
        "print(sysn[0])"
      ],
      "execution_count": null,
      "outputs": [
        {
          "output_type": "stream",
          "name": "stdout",
          "text": [
            "varsha\n",
            "Synset('car.n.01')\n"
          ]
        }
      ]
    },
    {
      "cell_type": "code",
      "metadata": {
        "colab": {
          "base_uri": "https://localhost:8080/"
        },
        "id": "oZ1ZcGGbCMHS",
        "outputId": "5aba673a-c6dc-44bc-bd6d-1dbc83d36873"
      },
      "source": [
        "print(\"varsha\")\n",
        "print(sysn[0].lemmas())\n",
        "print(sysn[0].lemmas()[1].name())\n"
      ],
      "execution_count": null,
      "outputs": [
        {
          "output_type": "stream",
          "name": "stdout",
          "text": [
            "varsha\n",
            "[Lemma('car.n.01.car'), Lemma('car.n.01.auto'), Lemma('car.n.01.automobile'), Lemma('car.n.01.machine'), Lemma('car.n.01.motorcar')]\n",
            "auto\n"
          ]
        }
      ]
    },
    {
      "cell_type": "code",
      "metadata": {
        "colab": {
          "base_uri": "https://localhost:8080/"
        },
        "id": "0P4g9g63CnRE",
        "outputId": "c84aea65-dbfc-45a1-b5ac-70e3526ade38"
      },
      "source": [
        "print(sysn[0].definition())\n",
        "print(\"varsha\")"
      ],
      "execution_count": null,
      "outputs": [
        {
          "output_type": "stream",
          "name": "stdout",
          "text": [
            "a motor vehicle with four wheels; usually propelled by an internal combustion engine\n",
            "varsha\n"
          ]
        }
      ]
    },
    {
      "cell_type": "code",
      "metadata": {
        "colab": {
          "base_uri": "https://localhost:8080/"
        },
        "id": "NUF4VK9ZC5t6",
        "outputId": "4a17397e-5b23-4356-9f51-4f861911cad3"
      },
      "source": [
        "print(\"varsha\")\n",
        "print(sysn[0].examples())"
      ],
      "execution_count": null,
      "outputs": [
        {
          "output_type": "stream",
          "name": "stdout",
          "text": [
            "varsha\n",
            "['he needs a car to get to work']\n"
          ]
        }
      ]
    },
    {
      "cell_type": "code",
      "metadata": {
        "colab": {
          "base_uri": "https://localhost:8080/"
        },
        "id": "SgxdPnrGDBzb",
        "outputId": "c40347dd-5ec1-409b-f03c-266fb07b7943"
      },
      "source": [
        "synonyms=[]\n",
        "antonyms=[]\n",
        "\n",
        "for sys in wn.synsets(\"good\"):\n",
        "  for l in sys.lemmas():\n",
        "    synonyms.append(l.name())\n",
        "    if l.antonyms():\n",
        "      antonyms.append(l.antonyms()[0].name())\n",
        "print(\"varsha\")\n",
        "print(\"Synonyms: \",(set(synonyms)))\n",
        "print(\"Antonyms: \",(set(antonyms)))"
      ],
      "execution_count": null,
      "outputs": [
        {
          "output_type": "stream",
          "name": "stdout",
          "text": [
            "varsha\n",
            "Synonyms:  {'sound', 'undecomposed', 'dependable', 'effective', 'expert', 'honorable', 'skilful', 'upright', 'soundly', 'well', 'right', 'good', 'near', 'beneficial', 'full', 'estimable', 'unspoiled', 'unspoilt', 'proficient', 'thoroughly', 'respectable', 'commodity', 'honest', 'goodness', 'dear', 'trade_good', 'practiced', 'salutary', 'adept', 'just', 'ripe', 'in_force', 'skillful', 'secure', 'safe', 'serious', 'in_effect'}\n",
            "Antonyms:  {'evil', 'badness', 'bad', 'evilness', 'ill'}\n"
          ]
        }
      ]
    },
    {
      "cell_type": "code",
      "metadata": {
        "colab": {
          "base_uri": "https://localhost:8080/"
        },
        "id": "bY2Y_dog_Nl-",
        "outputId": "7e94df7f-dd9b-43f2-d472-45276ace1627"
      },
      "source": [
        "aa=wn.synsets('good')\n",
        "print(aa)"
      ],
      "execution_count": null,
      "outputs": [
        {
          "output_type": "stream",
          "name": "stdout",
          "text": [
            "[Synset('good.n.01'), Synset('good.n.02'), Synset('good.n.03'), Synset('commodity.n.01'), Synset('good.a.01'), Synset('full.s.06'), Synset('good.a.03'), Synset('estimable.s.02'), Synset('beneficial.s.01'), Synset('good.s.06'), Synset('good.s.07'), Synset('adept.s.01'), Synset('good.s.09'), Synset('dear.s.02'), Synset('dependable.s.04'), Synset('good.s.12'), Synset('good.s.13'), Synset('effective.s.04'), Synset('good.s.15'), Synset('good.s.16'), Synset('good.s.17'), Synset('good.s.18'), Synset('good.s.19'), Synset('good.s.20'), Synset('good.s.21'), Synset('well.r.01'), Synset('thoroughly.r.02')]\n"
          ]
        }
      ]
    },
    {
      "cell_type": "code",
      "metadata": {
        "colab": {
          "base_uri": "https://localhost:8080/"
        },
        "id": "eq99kASv_e3H",
        "outputId": "e2ba5d51-7c87-4000-f688-ad651cc5532b"
      },
      "source": [
        "print(aa[2].lemmas())"
      ],
      "execution_count": null,
      "outputs": [
        {
          "output_type": "stream",
          "name": "stdout",
          "text": [
            "[Lemma('good.n.03.good'), Lemma('good.n.03.goodness')]\n"
          ]
        }
      ]
    },
    {
      "cell_type": "markdown",
      "metadata": {
        "id": "KbQ5MiLhEjJE"
      },
      "source": [
        "# Word Similarity"
      ]
    },
    {
      "cell_type": "code",
      "metadata": {
        "id": "kCrTAl9gEON8"
      },
      "source": [
        "from nltk.corpus import wordnet as wn"
      ],
      "execution_count": null,
      "outputs": []
    },
    {
      "cell_type": "code",
      "metadata": {
        "colab": {
          "base_uri": "https://localhost:8080/"
        },
        "id": "iUqDQdgTEp5Y",
        "outputId": "5ac94fb6-7032-4267-a5e1-e3129d0ebed9"
      },
      "source": [
        "car=wn.synset('car.n.01')\n",
        "automobile=wn.synset(\"automobile.n.01\")\n",
        "print(\"varsha\")"
      ],
      "execution_count": null,
      "outputs": [
        {
          "output_type": "stream",
          "name": "stdout",
          "text": [
            "varsha\n"
          ]
        }
      ]
    },
    {
      "cell_type": "code",
      "metadata": {
        "colab": {
          "base_uri": "https://localhost:8080/"
        },
        "id": "dNttSeK8F_yu",
        "outputId": "ad8224e0-02ee-4c93-a0e0-42b85b1db9df"
      },
      "source": [
        "print(\"varsha\")\n",
        "print(\"Similarity between car and automobile is:- \", automobile.path_similarity(car))"
      ],
      "execution_count": null,
      "outputs": [
        {
          "output_type": "stream",
          "name": "stdout",
          "text": [
            "varsha\n",
            "Similarity between car and automobile is:-  1.0\n"
          ]
        }
      ]
    },
    {
      "cell_type": "markdown",
      "metadata": {
        "id": "nMypCnfRGrBV"
      },
      "source": [
        "# Wu-Palmar Similarity Algorithm"
      ]
    },
    {
      "cell_type": "code",
      "metadata": {
        "colab": {
          "base_uri": "https://localhost:8080/"
        },
        "id": "1SDikdkCGLrB",
        "outputId": "c2cabf69-66cb-4741-e161-f17ace30bec2"
      },
      "source": [
        "print(\"varsha\")\n",
        "run=wn.synset(\"run.v.01\")\n",
        "sprint=wn.synset(\"sprint.v.01\")\n"
      ],
      "execution_count": null,
      "outputs": [
        {
          "output_type": "stream",
          "name": "stdout",
          "text": [
            "varsha\n"
          ]
        }
      ]
    },
    {
      "cell_type": "code",
      "metadata": {
        "colab": {
          "base_uri": "https://localhost:8080/"
        },
        "id": "GGRKV6YhHDF_",
        "outputId": "1d26f813-0a7d-4feb-ec25-6976b9c2be6f"
      },
      "source": [
        "print(\"varsha\")\n",
        "print(\"Similarity between car and automobile is:- \", run.wup_similarity(sprint))"
      ],
      "execution_count": null,
      "outputs": [
        {
          "output_type": "stream",
          "name": "stdout",
          "text": [
            "varsha\n",
            "Similarity between car and automobile is:-  0.8571428571428571\n"
          ]
        }
      ]
    },
    {
      "cell_type": "code",
      "metadata": {
        "id": "eM6BGZ-hHLHD"
      },
      "source": [
        ""
      ],
      "execution_count": null,
      "outputs": []
    }
  ]
}