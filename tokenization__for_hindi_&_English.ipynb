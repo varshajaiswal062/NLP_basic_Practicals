{
  "nbformat": 4,
  "nbformat_minor": 0,
  "metadata": {
    "colab": {
      "name": "tokenization _for_hindi & English.ipynb",
      "provenance": [],
      "collapsed_sections": []
    },
    "kernelspec": {
      "name": "python3",
      "display_name": "Python 3"
    },
    "language_info": {
      "name": "python"
    }
  },
  "cells": [
    {
      "cell_type": "markdown",
      "metadata": {
        "id": "eqB4_Z8F_C5u"
      },
      "source": [
        "# Practical program to perform tokenization over word and sentence on English and Hindi Text.\n"
      ]
    },
    {
      "cell_type": "code",
      "metadata": {
        "id": "Qd5EuxPY-o1K",
        "colab": {
          "base_uri": "https://localhost:8080/"
        },
        "outputId": "476c7189-6a99-4309-cdbb-6157b3a9ad76"
      },
      "source": [
        "!pip install nltk"
      ],
      "execution_count": null,
      "outputs": [
        {
          "output_type": "stream",
          "name": "stdout",
          "text": [
            "Requirement already satisfied: nltk in /usr/local/lib/python3.7/dist-packages (3.2.5)\n",
            "Requirement already satisfied: six in /usr/local/lib/python3.7/dist-packages (from nltk) (1.15.0)\n"
          ]
        }
      ]
    },
    {
      "cell_type": "code",
      "metadata": {
        "id": "bML3R_s9_BbV",
        "colab": {
          "base_uri": "https://localhost:8080/"
        },
        "outputId": "ddba13f0-055e-4157-c235-7c742a2a5ae9"
      },
      "source": [
        "import nltk\n",
        "nltk.download('all')"
      ],
      "execution_count": null,
      "outputs": [
        {
          "output_type": "stream",
          "name": "stdout",
          "text": [
            "[nltk_data] Downloading collection 'all'\n",
            "[nltk_data]    | \n",
            "[nltk_data]    | Downloading package abc to /root/nltk_data...\n",
            "[nltk_data]    |   Unzipping corpora/abc.zip.\n",
            "[nltk_data]    | Downloading package alpino to /root/nltk_data...\n",
            "[nltk_data]    |   Unzipping corpora/alpino.zip.\n",
            "[nltk_data]    | Downloading package biocreative_ppi to\n",
            "[nltk_data]    |     /root/nltk_data...\n",
            "[nltk_data]    |   Unzipping corpora/biocreative_ppi.zip.\n",
            "[nltk_data]    | Downloading package brown to /root/nltk_data...\n",
            "[nltk_data]    |   Unzipping corpora/brown.zip.\n",
            "[nltk_data]    | Downloading package brown_tei to /root/nltk_data...\n",
            "[nltk_data]    |   Unzipping corpora/brown_tei.zip.\n",
            "[nltk_data]    | Downloading package cess_cat to /root/nltk_data...\n",
            "[nltk_data]    |   Unzipping corpora/cess_cat.zip.\n",
            "[nltk_data]    | Downloading package cess_esp to /root/nltk_data...\n",
            "[nltk_data]    |   Unzipping corpora/cess_esp.zip.\n",
            "[nltk_data]    | Downloading package chat80 to /root/nltk_data...\n",
            "[nltk_data]    |   Unzipping corpora/chat80.zip.\n",
            "[nltk_data]    | Downloading package city_database to\n",
            "[nltk_data]    |     /root/nltk_data...\n",
            "[nltk_data]    |   Unzipping corpora/city_database.zip.\n",
            "[nltk_data]    | Downloading package cmudict to /root/nltk_data...\n",
            "[nltk_data]    |   Unzipping corpora/cmudict.zip.\n",
            "[nltk_data]    | Downloading package comparative_sentences to\n",
            "[nltk_data]    |     /root/nltk_data...\n",
            "[nltk_data]    |   Unzipping corpora/comparative_sentences.zip.\n",
            "[nltk_data]    | Downloading package comtrans to /root/nltk_data...\n",
            "[nltk_data]    | Downloading package conll2000 to /root/nltk_data...\n",
            "[nltk_data]    |   Unzipping corpora/conll2000.zip.\n",
            "[nltk_data]    | Downloading package conll2002 to /root/nltk_data...\n",
            "[nltk_data]    |   Unzipping corpora/conll2002.zip.\n",
            "[nltk_data]    | Downloading package conll2007 to /root/nltk_data...\n",
            "[nltk_data]    | Downloading package crubadan to /root/nltk_data...\n",
            "[nltk_data]    |   Unzipping corpora/crubadan.zip.\n",
            "[nltk_data]    | Downloading package dependency_treebank to\n",
            "[nltk_data]    |     /root/nltk_data...\n",
            "[nltk_data]    |   Unzipping corpora/dependency_treebank.zip.\n",
            "[nltk_data]    | Downloading package dolch to /root/nltk_data...\n",
            "[nltk_data]    |   Unzipping corpora/dolch.zip.\n",
            "[nltk_data]    | Downloading package europarl_raw to\n",
            "[nltk_data]    |     /root/nltk_data...\n",
            "[nltk_data]    |   Unzipping corpora/europarl_raw.zip.\n",
            "[nltk_data]    | Downloading package floresta to /root/nltk_data...\n",
            "[nltk_data]    |   Unzipping corpora/floresta.zip.\n",
            "[nltk_data]    | Downloading package framenet_v15 to\n",
            "[nltk_data]    |     /root/nltk_data...\n",
            "[nltk_data]    |   Unzipping corpora/framenet_v15.zip.\n",
            "[nltk_data]    | Downloading package framenet_v17 to\n",
            "[nltk_data]    |     /root/nltk_data...\n",
            "[nltk_data]    |   Unzipping corpora/framenet_v17.zip.\n",
            "[nltk_data]    | Downloading package gazetteers to /root/nltk_data...\n",
            "[nltk_data]    |   Unzipping corpora/gazetteers.zip.\n",
            "[nltk_data]    | Downloading package genesis to /root/nltk_data...\n",
            "[nltk_data]    |   Unzipping corpora/genesis.zip.\n",
            "[nltk_data]    | Downloading package gutenberg to /root/nltk_data...\n",
            "[nltk_data]    |   Unzipping corpora/gutenberg.zip.\n",
            "[nltk_data]    | Downloading package ieer to /root/nltk_data...\n",
            "[nltk_data]    |   Unzipping corpora/ieer.zip.\n",
            "[nltk_data]    | Downloading package inaugural to /root/nltk_data...\n",
            "[nltk_data]    |   Unzipping corpora/inaugural.zip.\n",
            "[nltk_data]    | Downloading package indian to /root/nltk_data...\n",
            "[nltk_data]    |   Unzipping corpora/indian.zip.\n",
            "[nltk_data]    | Downloading package jeita to /root/nltk_data...\n",
            "[nltk_data]    | Downloading package kimmo to /root/nltk_data...\n",
            "[nltk_data]    |   Unzipping corpora/kimmo.zip.\n",
            "[nltk_data]    | Downloading package knbc to /root/nltk_data...\n",
            "[nltk_data]    | Downloading package lin_thesaurus to\n",
            "[nltk_data]    |     /root/nltk_data...\n",
            "[nltk_data]    |   Unzipping corpora/lin_thesaurus.zip.\n",
            "[nltk_data]    | Downloading package mac_morpho to /root/nltk_data...\n",
            "[nltk_data]    |   Unzipping corpora/mac_morpho.zip.\n",
            "[nltk_data]    | Downloading package machado to /root/nltk_data...\n",
            "[nltk_data]    | Downloading package masc_tagged to /root/nltk_data...\n",
            "[nltk_data]    | Downloading package moses_sample to\n",
            "[nltk_data]    |     /root/nltk_data...\n",
            "[nltk_data]    |   Unzipping models/moses_sample.zip.\n",
            "[nltk_data]    | Downloading package movie_reviews to\n",
            "[nltk_data]    |     /root/nltk_data...\n",
            "[nltk_data]    |   Unzipping corpora/movie_reviews.zip.\n",
            "[nltk_data]    | Downloading package names to /root/nltk_data...\n",
            "[nltk_data]    |   Unzipping corpora/names.zip.\n",
            "[nltk_data]    | Downloading package nombank.1.0 to /root/nltk_data...\n",
            "[nltk_data]    | Downloading package nps_chat to /root/nltk_data...\n",
            "[nltk_data]    |   Unzipping corpora/nps_chat.zip.\n",
            "[nltk_data]    | Downloading package omw to /root/nltk_data...\n",
            "[nltk_data]    |   Unzipping corpora/omw.zip.\n",
            "[nltk_data]    | Downloading package opinion_lexicon to\n",
            "[nltk_data]    |     /root/nltk_data...\n",
            "[nltk_data]    |   Unzipping corpora/opinion_lexicon.zip.\n",
            "[nltk_data]    | Downloading package paradigms to /root/nltk_data...\n",
            "[nltk_data]    |   Unzipping corpora/paradigms.zip.\n",
            "[nltk_data]    | Downloading package pil to /root/nltk_data...\n",
            "[nltk_data]    |   Unzipping corpora/pil.zip.\n",
            "[nltk_data]    | Downloading package pl196x to /root/nltk_data...\n",
            "[nltk_data]    |   Unzipping corpora/pl196x.zip.\n",
            "[nltk_data]    | Downloading package ppattach to /root/nltk_data...\n",
            "[nltk_data]    |   Unzipping corpora/ppattach.zip.\n",
            "[nltk_data]    | Downloading package problem_reports to\n",
            "[nltk_data]    |     /root/nltk_data...\n",
            "[nltk_data]    |   Unzipping corpora/problem_reports.zip.\n",
            "[nltk_data]    | Downloading package propbank to /root/nltk_data...\n",
            "[nltk_data]    | Downloading package ptb to /root/nltk_data...\n",
            "[nltk_data]    |   Unzipping corpora/ptb.zip.\n",
            "[nltk_data]    | Downloading package product_reviews_1 to\n",
            "[nltk_data]    |     /root/nltk_data...\n",
            "[nltk_data]    |   Unzipping corpora/product_reviews_1.zip.\n",
            "[nltk_data]    | Downloading package product_reviews_2 to\n",
            "[nltk_data]    |     /root/nltk_data...\n",
            "[nltk_data]    |   Unzipping corpora/product_reviews_2.zip.\n",
            "[nltk_data]    | Downloading package pros_cons to /root/nltk_data...\n",
            "[nltk_data]    |   Unzipping corpora/pros_cons.zip.\n",
            "[nltk_data]    | Downloading package qc to /root/nltk_data...\n",
            "[nltk_data]    |   Unzipping corpora/qc.zip.\n",
            "[nltk_data]    | Downloading package reuters to /root/nltk_data...\n",
            "[nltk_data]    | Downloading package rte to /root/nltk_data...\n",
            "[nltk_data]    |   Unzipping corpora/rte.zip.\n",
            "[nltk_data]    | Downloading package semcor to /root/nltk_data...\n",
            "[nltk_data]    | Downloading package senseval to /root/nltk_data...\n",
            "[nltk_data]    |   Unzipping corpora/senseval.zip.\n",
            "[nltk_data]    | Downloading package sentiwordnet to\n",
            "[nltk_data]    |     /root/nltk_data...\n",
            "[nltk_data]    |   Unzipping corpora/sentiwordnet.zip.\n",
            "[nltk_data]    | Downloading package sentence_polarity to\n",
            "[nltk_data]    |     /root/nltk_data...\n",
            "[nltk_data]    |   Unzipping corpora/sentence_polarity.zip.\n",
            "[nltk_data]    | Downloading package shakespeare to /root/nltk_data...\n",
            "[nltk_data]    |   Unzipping corpora/shakespeare.zip.\n",
            "[nltk_data]    | Downloading package sinica_treebank to\n",
            "[nltk_data]    |     /root/nltk_data...\n",
            "[nltk_data]    |   Unzipping corpora/sinica_treebank.zip.\n",
            "[nltk_data]    | Downloading package smultron to /root/nltk_data...\n",
            "[nltk_data]    |   Unzipping corpora/smultron.zip.\n",
            "[nltk_data]    | Downloading package state_union to /root/nltk_data...\n",
            "[nltk_data]    |   Unzipping corpora/state_union.zip.\n",
            "[nltk_data]    | Downloading package stopwords to /root/nltk_data...\n",
            "[nltk_data]    |   Unzipping corpora/stopwords.zip.\n",
            "[nltk_data]    | Downloading package subjectivity to\n",
            "[nltk_data]    |     /root/nltk_data...\n",
            "[nltk_data]    |   Unzipping corpora/subjectivity.zip.\n",
            "[nltk_data]    | Downloading package swadesh to /root/nltk_data...\n",
            "[nltk_data]    |   Unzipping corpora/swadesh.zip.\n",
            "[nltk_data]    | Downloading package switchboard to /root/nltk_data...\n",
            "[nltk_data]    |   Unzipping corpora/switchboard.zip.\n",
            "[nltk_data]    | Downloading package timit to /root/nltk_data...\n",
            "[nltk_data]    |   Unzipping corpora/timit.zip.\n",
            "[nltk_data]    | Downloading package toolbox to /root/nltk_data...\n",
            "[nltk_data]    |   Unzipping corpora/toolbox.zip.\n",
            "[nltk_data]    | Downloading package treebank to /root/nltk_data...\n",
            "[nltk_data]    |   Unzipping corpora/treebank.zip.\n",
            "[nltk_data]    | Downloading package twitter_samples to\n",
            "[nltk_data]    |     /root/nltk_data...\n",
            "[nltk_data]    |   Unzipping corpora/twitter_samples.zip.\n",
            "[nltk_data]    | Downloading package udhr to /root/nltk_data...\n",
            "[nltk_data]    |   Unzipping corpora/udhr.zip.\n",
            "[nltk_data]    | Downloading package udhr2 to /root/nltk_data...\n",
            "[nltk_data]    |   Unzipping corpora/udhr2.zip.\n",
            "[nltk_data]    | Downloading package unicode_samples to\n",
            "[nltk_data]    |     /root/nltk_data...\n",
            "[nltk_data]    |   Unzipping corpora/unicode_samples.zip.\n",
            "[nltk_data]    | Downloading package universal_treebanks_v20 to\n",
            "[nltk_data]    |     /root/nltk_data...\n",
            "[nltk_data]    | Downloading package verbnet to /root/nltk_data...\n",
            "[nltk_data]    |   Unzipping corpora/verbnet.zip.\n",
            "[nltk_data]    | Downloading package verbnet3 to /root/nltk_data...\n",
            "[nltk_data]    |   Unzipping corpora/verbnet3.zip.\n",
            "[nltk_data]    | Downloading package webtext to /root/nltk_data...\n",
            "[nltk_data]    |   Unzipping corpora/webtext.zip.\n",
            "[nltk_data]    | Downloading package wordnet to /root/nltk_data...\n",
            "[nltk_data]    |   Unzipping corpora/wordnet.zip.\n",
            "[nltk_data]    | Downloading package wordnet_ic to /root/nltk_data...\n",
            "[nltk_data]    |   Unzipping corpora/wordnet_ic.zip.\n",
            "[nltk_data]    | Downloading package words to /root/nltk_data...\n",
            "[nltk_data]    |   Unzipping corpora/words.zip.\n",
            "[nltk_data]    | Downloading package ycoe to /root/nltk_data...\n",
            "[nltk_data]    |   Unzipping corpora/ycoe.zip.\n",
            "[nltk_data]    | Downloading package rslp to /root/nltk_data...\n",
            "[nltk_data]    |   Unzipping stemmers/rslp.zip.\n",
            "[nltk_data]    | Downloading package maxent_treebank_pos_tagger to\n",
            "[nltk_data]    |     /root/nltk_data...\n",
            "[nltk_data]    |   Unzipping taggers/maxent_treebank_pos_tagger.zip.\n",
            "[nltk_data]    | Downloading package universal_tagset to\n",
            "[nltk_data]    |     /root/nltk_data...\n",
            "[nltk_data]    |   Unzipping taggers/universal_tagset.zip.\n",
            "[nltk_data]    | Downloading package maxent_ne_chunker to\n",
            "[nltk_data]    |     /root/nltk_data...\n",
            "[nltk_data]    |   Unzipping chunkers/maxent_ne_chunker.zip.\n",
            "[nltk_data]    | Downloading package punkt to /root/nltk_data...\n",
            "[nltk_data]    |   Unzipping tokenizers/punkt.zip.\n",
            "[nltk_data]    | Downloading package book_grammars to\n",
            "[nltk_data]    |     /root/nltk_data...\n",
            "[nltk_data]    |   Unzipping grammars/book_grammars.zip.\n",
            "[nltk_data]    | Downloading package sample_grammars to\n",
            "[nltk_data]    |     /root/nltk_data...\n",
            "[nltk_data]    |   Unzipping grammars/sample_grammars.zip.\n",
            "[nltk_data]    | Downloading package spanish_grammars to\n",
            "[nltk_data]    |     /root/nltk_data...\n",
            "[nltk_data]    |   Unzipping grammars/spanish_grammars.zip.\n",
            "[nltk_data]    | Downloading package basque_grammars to\n",
            "[nltk_data]    |     /root/nltk_data...\n",
            "[nltk_data]    |   Unzipping grammars/basque_grammars.zip.\n",
            "[nltk_data]    | Downloading package large_grammars to\n",
            "[nltk_data]    |     /root/nltk_data...\n",
            "[nltk_data]    |   Unzipping grammars/large_grammars.zip.\n",
            "[nltk_data]    | Downloading package tagsets to /root/nltk_data...\n",
            "[nltk_data]    |   Unzipping help/tagsets.zip.\n",
            "[nltk_data]    | Downloading package snowball_data to\n",
            "[nltk_data]    |     /root/nltk_data...\n",
            "[nltk_data]    | Downloading package bllip_wsj_no_aux to\n",
            "[nltk_data]    |     /root/nltk_data...\n",
            "[nltk_data]    |   Unzipping models/bllip_wsj_no_aux.zip.\n",
            "[nltk_data]    | Downloading package word2vec_sample to\n",
            "[nltk_data]    |     /root/nltk_data...\n",
            "[nltk_data]    |   Unzipping models/word2vec_sample.zip.\n",
            "[nltk_data]    | Downloading package panlex_swadesh to\n",
            "[nltk_data]    |     /root/nltk_data...\n",
            "[nltk_data]    | Downloading package mte_teip5 to /root/nltk_data...\n",
            "[nltk_data]    |   Unzipping corpora/mte_teip5.zip.\n",
            "[nltk_data]    | Downloading package averaged_perceptron_tagger to\n",
            "[nltk_data]    |     /root/nltk_data...\n",
            "[nltk_data]    |   Unzipping taggers/averaged_perceptron_tagger.zip.\n",
            "[nltk_data]    | Downloading package averaged_perceptron_tagger_ru to\n",
            "[nltk_data]    |     /root/nltk_data...\n",
            "[nltk_data]    |   Unzipping\n",
            "[nltk_data]    |       taggers/averaged_perceptron_tagger_ru.zip.\n",
            "[nltk_data]    | Downloading package perluniprops to\n",
            "[nltk_data]    |     /root/nltk_data...\n",
            "[nltk_data]    |   Unzipping misc/perluniprops.zip.\n",
            "[nltk_data]    | Downloading package nonbreaking_prefixes to\n",
            "[nltk_data]    |     /root/nltk_data...\n",
            "[nltk_data]    |   Unzipping corpora/nonbreaking_prefixes.zip.\n",
            "[nltk_data]    | Downloading package vader_lexicon to\n",
            "[nltk_data]    |     /root/nltk_data...\n",
            "[nltk_data]    | Downloading package porter_test to /root/nltk_data...\n",
            "[nltk_data]    |   Unzipping stemmers/porter_test.zip.\n",
            "[nltk_data]    | Downloading package wmt15_eval to /root/nltk_data...\n",
            "[nltk_data]    |   Unzipping models/wmt15_eval.zip.\n",
            "[nltk_data]    | Downloading package mwa_ppdb to /root/nltk_data...\n",
            "[nltk_data]    |   Unzipping misc/mwa_ppdb.zip.\n",
            "[nltk_data]    | \n",
            "[nltk_data]  Done downloading collection all\n"
          ]
        },
        {
          "output_type": "execute_result",
          "data": {
            "text/plain": [
              "True"
            ]
          },
          "metadata": {},
          "execution_count": 2
        }
      ]
    },
    {
      "cell_type": "code",
      "metadata": {
        "id": "NnONTFNW_Yks",
        "colab": {
          "base_uri": "https://localhost:8080/"
        },
        "outputId": "88aa599a-c296-4ff1-fda7-989819c367a2"
      },
      "source": [
        "# Importing the libraray and data\n",
        "from nltk.tokenize import sent_tokenize\n",
        "Sentence = \"\"\"Once there was a Lion in the jungle who used to kill 2-3 animals daily for his meal. \n",
        "All animals went to him to tell, that daily one of them will come to him for his meal. So, the Lion agreed and this started going for many days. \n",
        "One day, it was Rabbit’s turn. When he was on his way he saw a well.\n",
        "Now he plans to kill the lion and save himself. He went to the lion and told him that, there is another lion who claims to be more powerful than him.\n",
        "Then the lion asks the rabbit to take him to that lion. The rabbit takes him to the well and said he lives here. \n",
        "When the lion looked in the well he saw his own reflection and jumped in the well and dies.\"\"\"\n",
        "\n",
        "print(\"varsha\")"
      ],
      "execution_count": null,
      "outputs": [
        {
          "output_type": "stream",
          "name": "stdout",
          "text": [
            "varsha\n"
          ]
        }
      ]
    },
    {
      "cell_type": "code",
      "metadata": {
        "colab": {
          "base_uri": "https://localhost:8080/"
        },
        "id": "bbyLCcar_q2E",
        "outputId": "c3f5c905-73a0-4251-c839-bea4aebc1be2"
      },
      "source": [
        "# Tokenize the Sentences\n",
        "print(\"varsha\")\n",
        "print(\"\\n\")\n",
        "print(\"Sentence in singal line with comma separeted\",sent_tokenize(Sentence))\n",
        "print(\"\\n\")\n",
        "for i in sent_tokenize(Sentence):\n",
        "    print(i)\n"
      ],
      "execution_count": null,
      "outputs": [
        {
          "output_type": "stream",
          "name": "stdout",
          "text": [
            "varsha\n",
            "\n",
            "\n",
            "Sentence in singal line with comma separeted ['Once there was a Lion in the jungle who used to kill 2-3 animals daily for his meal.', 'All animals went to him to tell, that daily one of them will come to him for his meal.', 'So, the Lion agreed and this started going for many days.', 'One day, it was Rabbit’s turn.', 'When he was on his way he saw a well.', 'Now he plans to kill the lion and save himself.', 'He went to the lion and told him that, there is another lion who claims to be more powerful than him.', 'Then the lion asks the rabbit to take him to that lion.', 'The rabbit takes him to the well and said he lives here.', 'When the lion looked in the well he saw his own reflection and jumped in the well and dies.']\n",
            "\n",
            "\n",
            "Once there was a Lion in the jungle who used to kill 2-3 animals daily for his meal.\n",
            "All animals went to him to tell, that daily one of them will come to him for his meal.\n",
            "So, the Lion agreed and this started going for many days.\n",
            "One day, it was Rabbit’s turn.\n",
            "When he was on his way he saw a well.\n",
            "Now he plans to kill the lion and save himself.\n",
            "He went to the lion and told him that, there is another lion who claims to be more powerful than him.\n",
            "Then the lion asks the rabbit to take him to that lion.\n",
            "The rabbit takes him to the well and said he lives here.\n",
            "When the lion looked in the well he saw his own reflection and jumped in the well and dies.\n"
          ]
        }
      ]
    },
    {
      "cell_type": "code",
      "metadata": {
        "id": "Rke8tT2a_0VZ",
        "colab": {
          "base_uri": "https://localhost:8080/"
        },
        "outputId": "f21922d0-04ed-456d-fc83-a6f07518d95f"
      },
      "source": [
        "# Tokenize the Words\n",
        "from nltk.tokenize import word_tokenize\n",
        "print(\"varsha\")\n",
        "print(\"\\n\")\n",
        "print(\"words in singal line with comma separeted\",word_tokenize(Sentence))\n",
        "print(\"\\n\")\n",
        "for i in word_tokenize(Sentence):\n",
        "    print(i)\n"
      ],
      "execution_count": null,
      "outputs": [
        {
          "output_type": "stream",
          "name": "stdout",
          "text": [
            "varsha\n",
            "\n",
            "\n",
            "words in singal line with comma separeted ['Once', 'there', 'was', 'a', 'Lion', 'in', 'the', 'jungle', 'who', 'used', 'to', 'kill', '2-3', 'animals', 'daily', 'for', 'his', 'meal', '.', 'All', 'animals', 'went', 'to', 'him', 'to', 'tell', ',', 'that', 'daily', 'one', 'of', 'them', 'will', 'come', 'to', 'him', 'for', 'his', 'meal', '.', 'So', ',', 'the', 'Lion', 'agreed', 'and', 'this', 'started', 'going', 'for', 'many', 'days', '.', 'One', 'day', ',', 'it', 'was', 'Rabbit', '’', 's', 'turn', '.', 'When', 'he', 'was', 'on', 'his', 'way', 'he', 'saw', 'a', 'well', '.', 'Now', 'he', 'plans', 'to', 'kill', 'the', 'lion', 'and', 'save', 'himself', '.', 'He', 'went', 'to', 'the', 'lion', 'and', 'told', 'him', 'that', ',', 'there', 'is', 'another', 'lion', 'who', 'claims', 'to', 'be', 'more', 'powerful', 'than', 'him', '.', 'Then', 'the', 'lion', 'asks', 'the', 'rabbit', 'to', 'take', 'him', 'to', 'that', 'lion', '.', 'The', 'rabbit', 'takes', 'him', 'to', 'the', 'well', 'and', 'said', 'he', 'lives', 'here', '.', 'When', 'the', 'lion', 'looked', 'in', 'the', 'well', 'he', 'saw', 'his', 'own', 'reflection', 'and', 'jumped', 'in', 'the', 'well', 'and', 'dies', '.']\n",
            "\n",
            "\n",
            "Once\n",
            "there\n",
            "was\n",
            "a\n",
            "Lion\n",
            "in\n",
            "the\n",
            "jungle\n",
            "who\n",
            "used\n",
            "to\n",
            "kill\n",
            "2-3\n",
            "animals\n",
            "daily\n",
            "for\n",
            "his\n",
            "meal\n",
            ".\n",
            "All\n",
            "animals\n",
            "went\n",
            "to\n",
            "him\n",
            "to\n",
            "tell\n",
            ",\n",
            "that\n",
            "daily\n",
            "one\n",
            "of\n",
            "them\n",
            "will\n",
            "come\n",
            "to\n",
            "him\n",
            "for\n",
            "his\n",
            "meal\n",
            ".\n",
            "So\n",
            ",\n",
            "the\n",
            "Lion\n",
            "agreed\n",
            "and\n",
            "this\n",
            "started\n",
            "going\n",
            "for\n",
            "many\n",
            "days\n",
            ".\n",
            "One\n",
            "day\n",
            ",\n",
            "it\n",
            "was\n",
            "Rabbit\n",
            "’\n",
            "s\n",
            "turn\n",
            ".\n",
            "When\n",
            "he\n",
            "was\n",
            "on\n",
            "his\n",
            "way\n",
            "he\n",
            "saw\n",
            "a\n",
            "well\n",
            ".\n",
            "Now\n",
            "he\n",
            "plans\n",
            "to\n",
            "kill\n",
            "the\n",
            "lion\n",
            "and\n",
            "save\n",
            "himself\n",
            ".\n",
            "He\n",
            "went\n",
            "to\n",
            "the\n",
            "lion\n",
            "and\n",
            "told\n",
            "him\n",
            "that\n",
            ",\n",
            "there\n",
            "is\n",
            "another\n",
            "lion\n",
            "who\n",
            "claims\n",
            "to\n",
            "be\n",
            "more\n",
            "powerful\n",
            "than\n",
            "him\n",
            ".\n",
            "Then\n",
            "the\n",
            "lion\n",
            "asks\n",
            "the\n",
            "rabbit\n",
            "to\n",
            "take\n",
            "him\n",
            "to\n",
            "that\n",
            "lion\n",
            ".\n",
            "The\n",
            "rabbit\n",
            "takes\n",
            "him\n",
            "to\n",
            "the\n",
            "well\n",
            "and\n",
            "said\n",
            "he\n",
            "lives\n",
            "here\n",
            ".\n",
            "When\n",
            "the\n",
            "lion\n",
            "looked\n",
            "in\n",
            "the\n",
            "well\n",
            "he\n",
            "saw\n",
            "his\n",
            "own\n",
            "reflection\n",
            "and\n",
            "jumped\n",
            "in\n",
            "the\n",
            "well\n",
            "and\n",
            "dies\n",
            ".\n"
          ]
        }
      ]
    },
    {
      "cell_type": "code",
      "metadata": {
        "colab": {
          "base_uri": "https://localhost:8080/"
        },
        "id": "lo_0fk4qAFQr",
        "outputId": "c7a24ff7-8d3c-4a41-c242-28a2245f598f"
      },
      "source": [
        "from nltk.tokenize import TreebankWordTokenizer \n",
        "tokenizer = TreebankWordTokenizer() \n",
        "print(\"TreebankWordTokenizer\",tokenizer.tokenize(Sentence))\n",
        "print(\"varsha\")"
      ],
      "execution_count": null,
      "outputs": [
        {
          "output_type": "stream",
          "name": "stdout",
          "text": [
            "TreebankWordTokenizer ['Once', 'there', 'was', 'a', 'Lion', 'in', 'the', 'jungle', 'who', 'used', 'to', 'kill', '2-3', 'animals', 'daily', 'for', 'his', 'meal.', 'All', 'animals', 'went', 'to', 'him', 'to', 'tell', ',', 'that', 'daily', 'one', 'of', 'them', 'will', 'come', 'to', 'him', 'for', 'his', 'meal.', 'So', ',', 'the', 'Lion', 'agreed', 'and', 'this', 'started', 'going', 'for', 'many', 'days.', 'One', 'day', ',', 'it', 'was', 'Rabbit', '’', 's', 'turn.', 'When', 'he', 'was', 'on', 'his', 'way', 'he', 'saw', 'a', 'well.', 'Now', 'he', 'plans', 'to', 'kill', 'the', 'lion', 'and', 'save', 'himself.', 'He', 'went', 'to', 'the', 'lion', 'and', 'told', 'him', 'that', ',', 'there', 'is', 'another', 'lion', 'who', 'claims', 'to', 'be', 'more', 'powerful', 'than', 'him.', 'Then', 'the', 'lion', 'asks', 'the', 'rabbit', 'to', 'take', 'him', 'to', 'that', 'lion.', 'The', 'rabbit', 'takes', 'him', 'to', 'the', 'well', 'and', 'said', 'he', 'lives', 'here.', 'When', 'the', 'lion', 'looked', 'in', 'the', 'well', 'he', 'saw', 'his', 'own', 'reflection', 'and', 'jumped', 'in', 'the', 'well', 'and', 'dies', '.']\n",
            "varsha\n"
          ]
        }
      ]
    },
    {
      "cell_type": "code",
      "metadata": {
        "colab": {
          "base_uri": "https://localhost:8080/"
        },
        "id": "HK9Spc2UApiA",
        "outputId": "4fa15fb2-6a11-4656-cce7-038a3334521b"
      },
      "source": [
        "from nltk.tokenize import WordPunctTokenizer \n",
        "tokenizer = WordPunctTokenizer() \n",
        "print(\"WordPunctTokenizer\",tokenizer.tokenize(Sentence))\n",
        "print(\"varsha\")"
      ],
      "execution_count": null,
      "outputs": [
        {
          "output_type": "stream",
          "name": "stdout",
          "text": [
            "WordPunctTokenizer ['Once', 'there', 'was', 'a', 'Lion', 'in', 'the', 'jungle', 'who', 'used', 'to', 'kill', '2', '-', '3', 'animals', 'daily', 'for', 'his', 'meal', '.', 'All', 'animals', 'went', 'to', 'him', 'to', 'tell', ',', 'that', 'daily', 'one', 'of', 'them', 'will', 'come', 'to', 'him', 'for', 'his', 'meal', '.', 'So', ',', 'the', 'Lion', 'agreed', 'and', 'this', 'started', 'going', 'for', 'many', 'days', '.', 'One', 'day', ',', 'it', 'was', 'Rabbit', '’', 's', 'turn', '.', 'When', 'he', 'was', 'on', 'his', 'way', 'he', 'saw', 'a', 'well', '.', 'Now', 'he', 'plans', 'to', 'kill', 'the', 'lion', 'and', 'save', 'himself', '.', 'He', 'went', 'to', 'the', 'lion', 'and', 'told', 'him', 'that', ',', 'there', 'is', 'another', 'lion', 'who', 'claims', 'to', 'be', 'more', 'powerful', 'than', 'him', '.', 'Then', 'the', 'lion', 'asks', 'the', 'rabbit', 'to', 'take', 'him', 'to', 'that', 'lion', '.', 'The', 'rabbit', 'takes', 'him', 'to', 'the', 'well', 'and', 'said', 'he', 'lives', 'here', '.', 'When', 'the', 'lion', 'looked', 'in', 'the', 'well', 'he', 'saw', 'his', 'own', 'reflection', 'and', 'jumped', 'in', 'the', 'well', 'and', 'dies', '.']\n",
            "varsha\n"
          ]
        }
      ]
    },
    {
      "cell_type": "markdown",
      "metadata": {
        "id": "msiRzdN4VuJ8"
      },
      "source": [
        "# Tokenization for HINDI text data"
      ]
    },
    {
      "cell_type": "code",
      "metadata": {
        "id": "SqTJlWowC7qy",
        "colab": {
          "base_uri": "https://localhost:8080/"
        },
        "outputId": "9a5b7295-1114-4364-e246-4c338fc82721"
      },
      "source": [
        "text=\"\"\"एक बार जंगल में एक शेर रहता था जो अपने भोजन के लिए रोजाना 2-3 जानवरों को मार डालता था। सब जानवर उसके पास यह कहने के लिए गए, कि उनमें से एक प्रतिदिन उसके पास भोजन करने आएगा। तो, शेर मान गया और यह कई दिनों तक चलने लगा। एक दिन खरगोश की बारी थी। रास्ते में उसे एक कुआँ दिखाई दिया।\n",
        "अब वह शेर को मारने और खुद को बचाने की योजना बना रहा है। वह शेर के पास गया और उससे कहा कि, एक और शेर है जो उससे अधिक शक्तिशाली होने का दावा करता है।\n",
        "तभी शेर खरगोश को उस शेर के पास ले जाने को कहता है। खरगोश उसे कुएं के पास ले गया और कहा कि वह यहीं रहता है।\n",
        "जब शेर ने कुएँ में देखा तो उसने अपना प्रतिबिंब देखा और कुएँ में कूद कर मर गया \"\"\"\n",
        "print(\"varsha\")"
      ],
      "execution_count": null,
      "outputs": [
        {
          "output_type": "stream",
          "name": "stdout",
          "text": [
            "varsha\n"
          ]
        }
      ]
    },
    {
      "cell_type": "code",
      "metadata": {
        "colab": {
          "base_uri": "https://localhost:8080/"
        },
        "id": "ucnyvG2LANHe",
        "outputId": "fa694c0f-9ab8-46c3-adf5-a6c1b6737238"
      },
      "source": [
        "from nltk.tokenize import sent_tokenize\n",
        "print(\"Sentence_tokenize\",sent_tokenize(text))\n",
        "print(\"varsha\")"
      ],
      "execution_count": null,
      "outputs": [
        {
          "output_type": "stream",
          "name": "stdout",
          "text": [
            "Sentence_tokenize ['एक बार जंगल में एक शेर रहता था जो अपने भोजन के लिए रोजाना 2-3 जानवरों को मार डालता था। सब जानवर उसके पास यह कहने के लिए गए, कि उनमें से एक प्रतिदिन उसके पास भोजन करने आएगा। तो, शेर मान गया और यह कई दिनों तक चलने लगा। एक दिन खरगोश की बारी थी। रास्ते में उसे एक कुआँ दिखाई दिया।\\nअब वह शेर को मारने और खुद को बचाने की योजना बना रहा है। वह शेर के पास गया और उससे कहा कि, एक और शेर है जो उससे अधिक शक्तिशाली होने का दावा करता है।\\nतभी शेर खरगोश को उस शेर के पास ले जाने को कहता है। खरगोश उसे कुएं के पास ले गया और कहा कि वह यहीं रहता है।\\nजब शेर ने कुएँ में देखा तो उसने अपना प्रतिबिंब देखा और कुएँ में कूद कर मर गया']\n",
            "varsha\n"
          ]
        }
      ]
    },
    {
      "cell_type": "code",
      "metadata": {
        "colab": {
          "base_uri": "https://localhost:8080/"
        },
        "id": "hcqavuhgAd_w",
        "outputId": "d68386ef-0ba8-4f4b-9e5d-b48387d461ba"
      },
      "source": [
        "from nltk.tokenize import word_tokenize\n",
        "text1 = \"इस लेख में हम आपको इंटरनेट के बारे में सम्पूर्ण जानकारी देने का प्रयास करेंगे। आज के आधुनिक युग में अधिकतर काम इंटरनेट के माध्यम से करना बहुत ही आसान व् सुविधाजनक हो गया है। अतः इंटरनेट के बारे में सभी को सम्पूर्ण जानकारी होनी चाहिए\"\n",
        "print(\"word_tokenize\",word_tokenize(text))\n",
        "print(\"varsha\")"
      ],
      "execution_count": null,
      "outputs": [
        {
          "output_type": "stream",
          "name": "stdout",
          "text": [
            "word_tokenize ['एक', 'बार', 'जंगल', 'में', 'एक', 'शेर', 'रहता', 'था', 'जो', 'अपने', 'भोजन', 'के', 'लिए', 'रोजाना', '2-3', 'जानवरों', 'को', 'मार', 'डालता', 'था।', 'सब', 'जानवर', 'उसके', 'पास', 'यह', 'कहने', 'के', 'लिए', 'गए', ',', 'कि', 'उनमें', 'से', 'एक', 'प्रतिदिन', 'उसके', 'पास', 'भोजन', 'करने', 'आएगा।', 'तो', ',', 'शेर', 'मान', 'गया', 'और', 'यह', 'कई', 'दिनों', 'तक', 'चलने', 'लगा।', 'एक', 'दिन', 'खरगोश', 'की', 'बारी', 'थी।', 'रास्ते', 'में', 'उसे', 'एक', 'कुआँ', 'दिखाई', 'दिया।', 'अब', 'वह', 'शेर', 'को', 'मारने', 'और', 'खुद', 'को', 'बचाने', 'की', 'योजना', 'बना', 'रहा', 'है।', 'वह', 'शेर', 'के', 'पास', 'गया', 'और', 'उससे', 'कहा', 'कि', ',', 'एक', 'और', 'शेर', 'है', 'जो', 'उससे', 'अधिक', 'शक्तिशाली', 'होने', 'का', 'दावा', 'करता', 'है।', 'तभी', 'शेर', 'खरगोश', 'को', 'उस', 'शेर', 'के', 'पास', 'ले', 'जाने', 'को', 'कहता', 'है।', 'खरगोश', 'उसे', 'कुएं', 'के', 'पास', 'ले', 'गया', 'और', 'कहा', 'कि', 'वह', 'यहीं', 'रहता', 'है।', 'जब', 'शेर', 'ने', 'कुएँ', 'में', 'देखा', 'तो', 'उसने', 'अपना', 'प्रतिबिंब', 'देखा', 'और', 'कुएँ', 'में', 'कूद', 'कर', 'मर', 'गया']\n",
            "varsha\n"
          ]
        }
      ]
    },
    {
      "cell_type": "code",
      "metadata": {
        "colab": {
          "base_uri": "https://localhost:8080/"
        },
        "id": "QIqi2l9CA7Fb",
        "outputId": "51c158f0-2129-433c-9536-99ae53640c58"
      },
      "source": [
        "from nltk.tokenize import TreebankWordTokenizer \n",
        "tokenizer = TreebankWordTokenizer() \n",
        "print(\"TreebankWordTokenizer\",tokenizer.tokenize(text))\n",
        "print(\"varsha\")"
      ],
      "execution_count": null,
      "outputs": [
        {
          "output_type": "stream",
          "name": "stdout",
          "text": [
            "TreebankWordTokenizer ['एक', 'बार', 'जंगल', 'में', 'एक', 'शेर', 'रहता', 'था', 'जो', 'अपने', 'भोजन', 'के', 'लिए', 'रोजाना', '2-3', 'जानवरों', 'को', 'मार', 'डालता', 'था।', 'सब', 'जानवर', 'उसके', 'पास', 'यह', 'कहने', 'के', 'लिए', 'गए', ',', 'कि', 'उनमें', 'से', 'एक', 'प्रतिदिन', 'उसके', 'पास', 'भोजन', 'करने', 'आएगा।', 'तो', ',', 'शेर', 'मान', 'गया', 'और', 'यह', 'कई', 'दिनों', 'तक', 'चलने', 'लगा।', 'एक', 'दिन', 'खरगोश', 'की', 'बारी', 'थी।', 'रास्ते', 'में', 'उसे', 'एक', 'कुआँ', 'दिखाई', 'दिया।', 'अब', 'वह', 'शेर', 'को', 'मारने', 'और', 'खुद', 'को', 'बचाने', 'की', 'योजना', 'बना', 'रहा', 'है।', 'वह', 'शेर', 'के', 'पास', 'गया', 'और', 'उससे', 'कहा', 'कि', ',', 'एक', 'और', 'शेर', 'है', 'जो', 'उससे', 'अधिक', 'शक्तिशाली', 'होने', 'का', 'दावा', 'करता', 'है।', 'तभी', 'शेर', 'खरगोश', 'को', 'उस', 'शेर', 'के', 'पास', 'ले', 'जाने', 'को', 'कहता', 'है।', 'खरगोश', 'उसे', 'कुएं', 'के', 'पास', 'ले', 'गया', 'और', 'कहा', 'कि', 'वह', 'यहीं', 'रहता', 'है।', 'जब', 'शेर', 'ने', 'कुएँ', 'में', 'देखा', 'तो', 'उसने', 'अपना', 'प्रतिबिंब', 'देखा', 'और', 'कुएँ', 'में', 'कूद', 'कर', 'मर', 'गया']\n",
            "varsha\n"
          ]
        }
      ]
    },
    {
      "cell_type": "code",
      "metadata": {
        "colab": {
          "base_uri": "https://localhost:8080/"
        },
        "id": "ZnhExq5TBMVw",
        "outputId": "f516bdbe-b2d2-4ea8-bf3d-1dfec2d0a13f"
      },
      "source": [
        "from nltk.tokenize import WordPunctTokenizer   \n",
        "tokenizer = WordPunctTokenizer() \n",
        "print(\"WordPunctTokenizer\",tokenizer.tokenize(text))\n",
        "print(\"varsha\")"
      ],
      "execution_count": null,
      "outputs": [
        {
          "output_type": "stream",
          "name": "stdout",
          "text": [
            "WordPunctTokenizer ['एक', 'ब', 'ा', 'र', 'ज', 'ं', 'गल', 'म', 'ें', 'एक', 'श', 'े', 'र', 'रहत', 'ा', 'थ', 'ा', 'ज', 'ो', 'अपन', 'े', 'भ', 'ो', 'जन', 'क', 'े', 'ल', 'ि', 'ए', 'र', 'ो', 'ज', 'ा', 'न', 'ा', '2', '-', '3', 'ज', 'ा', 'नवर', 'ों', 'क', 'ो', 'म', 'ा', 'र', 'ड', 'ा', 'लत', 'ा', 'थ', 'ा।', 'सब', 'ज', 'ा', 'नवर', 'उसक', 'े', 'प', 'ा', 'स', 'यह', 'कहन', 'े', 'क', 'े', 'ल', 'ि', 'ए', 'गए', ',', 'क', 'ि', 'उनम', 'ें', 'स', 'े', 'एक', 'प', '्', 'रत', 'ि', 'द', 'ि', 'न', 'उसक', 'े', 'प', 'ा', 'स', 'भ', 'ो', 'जन', 'करन', 'े', 'आएग', 'ा।', 'त', 'ो,', 'श', 'े', 'र', 'म', 'ा', 'न', 'गय', 'ा', 'और', 'यह', 'कई', 'द', 'ि', 'न', 'ों', 'तक', 'चलन', 'े', 'लग', 'ा।', 'एक', 'द', 'ि', 'न', 'खरग', 'ो', 'श', 'क', 'ी', 'ब', 'ा', 'र', 'ी', 'थ', 'ी।', 'र', 'ा', 'स', '्', 'त', 'े', 'म', 'ें', 'उस', 'े', 'एक', 'क', 'ु', 'आ', 'ँ', 'द', 'ि', 'ख', 'ा', 'ई', 'द', 'ि', 'य', 'ा।', 'अब', 'वह', 'श', 'े', 'र', 'क', 'ो', 'म', 'ा', 'रन', 'े', 'और', 'ख', 'ु', 'द', 'क', 'ो', 'बच', 'ा', 'न', 'े', 'क', 'ी', 'य', 'ो', 'जन', 'ा', 'बन', 'ा', 'रह', 'ा', 'ह', 'ै।', 'वह', 'श', 'े', 'र', 'क', 'े', 'प', 'ा', 'स', 'गय', 'ा', 'और', 'उसस', 'े', 'कह', 'ा', 'क', 'ि,', 'एक', 'और', 'श', 'े', 'र', 'ह', 'ै', 'ज', 'ो', 'उसस', 'े', 'अध', 'ि', 'क', 'शक', '्', 'त', 'ि', 'श', 'ा', 'ल', 'ी', 'ह', 'ो', 'न', 'े', 'क', 'ा', 'द', 'ा', 'व', 'ा', 'करत', 'ा', 'ह', 'ै।', 'तभ', 'ी', 'श', 'े', 'र', 'खरग', 'ो', 'श', 'क', 'ो', 'उस', 'श', 'े', 'र', 'क', 'े', 'प', 'ा', 'स', 'ल', 'े', 'ज', 'ा', 'न', 'े', 'क', 'ो', 'कहत', 'ा', 'ह', 'ै।', 'खरग', 'ो', 'श', 'उस', 'े', 'क', 'ु', 'ए', 'ं', 'क', 'े', 'प', 'ा', 'स', 'ल', 'े', 'गय', 'ा', 'और', 'कह', 'ा', 'क', 'ि', 'वह', 'यह', 'ीं', 'रहत', 'ा', 'ह', 'ै।', 'जब', 'श', 'े', 'र', 'न', 'े', 'क', 'ु', 'ए', 'ँ', 'म', 'ें', 'द', 'े', 'ख', 'ा', 'त', 'ो', 'उसन', 'े', 'अपन', 'ा', 'प', '्', 'रत', 'ि', 'ब', 'िं', 'ब', 'द', 'े', 'ख', 'ा', 'और', 'क', 'ु', 'ए', 'ँ', 'म', 'ें', 'क', 'ू', 'द', 'कर', 'मर', 'गय', 'ा']\n",
            "varsha\n"
          ]
        }
      ]
    },
    {
      "cell_type": "code",
      "metadata": {
        "id": "YCIKkgL4EcNB"
      },
      "source": [
        ""
      ],
      "execution_count": null,
      "outputs": []
    }
  ]
}